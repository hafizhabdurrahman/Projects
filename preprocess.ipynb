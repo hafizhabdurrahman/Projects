{
 "cells": [
  {
   "cell_type": "code",
   "execution_count": 1,
   "metadata": {},
   "outputs": [
    {
     "name": "stderr",
     "output_type": "stream",
     "text": [
      "C:\\Users\\hafiz\\Anaconda3\\lib\\site-packages\\IPython\\core\\interactiveshell.py:3057: DtypeWarning: Columns (37,38,39,40,41,42,43,44,45,47,48,49,50,51,52,53,54,55,56,57,58,59,60,61,62,74,88) have mixed types. Specify dtype option on import or set low_memory=False.\n",
      "  interactivity=interactivity, compiler=compiler, result=result)\n"
     ]
    }
   ],
   "source": [
    "#!/usr/bin/env python3\n",
    "from pathlib import Path\n",
    "\n",
    "import numpy as np\n",
    "import pandas as pd\n",
    "from sklearn.preprocessing import MinMaxScaler\n",
    "\n",
    "resource_dir = Path(\"./\", \"dataset\")\n",
    "\n",
    "# Read in the full CSV file from ZIP file in 'resources' directory\n",
    "data = pd.read_csv(\n",
    "    Path(resource_dir, 'dataset.CSV'),\n",
    "    sep=',',\n",
    "    header=None)\n",
    "\n",
    "col_names = []\n",
    "\n",
    "with open(Path(resource_dir, 'col_names.txt')) as cols_fp:\n",
    "    for line_num, name in enumerate(cols_fp):\n",
    "        col_names.append(name.rstrip())\n",
    "\n",
    "# Set the column headers to the names from the Wireshark frame\n",
    "data.columns = col_names\n",
    "\n",
    "### Preprocess our minimized dataset ###\n",
    "\n",
    "# Remove NULL values from our dataset\n",
    "\n",
    "# Replace the '?' string in the DataFrame with a NumPy NaN value\n",
    "data = data.replace('?', 0)\n",
    "\n"
   ]
  },
  {
   "cell_type": "code",
   "execution_count": 3,
   "metadata": {},
   "outputs": [
    {
     "data": {
      "text/plain": [
       "1795575"
      ]
     },
     "execution_count": 3,
     "metadata": {},
     "output_type": "execute_result"
    }
   ],
   "source": [
    "len(data)"
   ]
  },
  {
   "cell_type": "code",
   "execution_count": 4,
   "metadata": {},
   "outputs": [
    {
     "name": "stdout",
     "output_type": "stream",
     "text": [
      "radiotap.present.reserved = Hex\n",
      "radiotap.present.reserved telah diubah menjadi desimal\n",
      "wlan.fc.type_subtype = Hex\n",
      "wlan.fc.type_subtype telah diubah menjadi desimal\n",
      "wlan.fc.ds = Hex\n",
      "wlan.fc.ds telah diubah menjadi desimal\n",
      "wlan.bar.type = Hex\n",
      "wlan.bar.type telah diubah menjadi desimal\n",
      "wlan.bar.compressed.tidinfo = Hex\n",
      "wlan.bar.compressed.tidinfo telah diubah menjadi desimal\n",
      "wlan_mgt.fixed.capabilities.cfpoll.ap = Hex\n",
      "wlan_mgt.fixed.capabilities.cfpoll.ap telah diubah menjadi desimal\n",
      "wlan_mgt.fixed.listen_ival = Hex\n",
      "wlan_mgt.fixed.listen_ival telah diubah menjadi desimal\n",
      "wlan_mgt.fixed.status_code = Hex\n",
      "wlan_mgt.fixed.status_code telah diubah menjadi desimal\n",
      "wlan_mgt.fixed.timestamp = Hex\n",
      "wlan_mgt.fixed.timestamp telah diubah menjadi desimal\n",
      "wlan_mgt.fixed.aid = Hex\n",
      "wlan_mgt.fixed.aid telah diubah menjadi desimal\n",
      "wlan_mgt.fixed.reason_code = Hex\n",
      "wlan_mgt.fixed.reason_code telah diubah menjadi desimal\n",
      "wlan_mgt.fixed.auth_seq = Hex\n",
      "wlan_mgt.fixed.auth_seq telah diubah menjadi desimal\n",
      "wlan_mgt.fixed.htact = Hex\n",
      "wlan_mgt.fixed.htact telah diubah menjadi desimal\n",
      "wlan_mgt.fixed.chanwidth = Hex\n",
      "wlan_mgt.fixed.chanwidth telah diubah menjadi desimal\n",
      "wlan_mgt.ssid = Hex\n",
      "wlan_mgt.tim.bmapctl.offset = Hex\n",
      "wlan_mgt.tim.bmapctl.offset telah diubah menjadi desimal\n",
      "wlan_mgt.country_info.environment = Hex\n",
      "wlan_mgt.country_info.environment telah diubah menjadi desimal\n",
      "wlan_mgt.rsn.capabilities.ptksa_replay_counter = Hex\n",
      "wlan_mgt.rsn.capabilities.ptksa_replay_counter telah diubah menjadi desimal\n",
      "wlan_mgt.rsn.capabilities.gtksa_replay_counter = Hex\n",
      "wlan_mgt.rsn.capabilities.gtksa_replay_counter telah diubah menjadi desimal\n",
      "wlan.wep.iv = Hex\n",
      "wlan.wep.iv telah diubah menjadi desimal\n",
      "wlan.wep.icv = Hex\n",
      "wlan.wep.icv telah diubah menjadi desimal\n",
      "wlan.tkip.extiv = Hex\n",
      "wlan.tkip.extiv telah diubah menjadi desimal\n",
      "wlan.ccmp.extiv = Hex\n",
      "wlan.ccmp.extiv telah diubah menjadi desimal\n",
      "wlan.qos.ack = Hex\n",
      "wlan.qos.ack telah diubah menjadi desimal\n"
     ]
    }
   ],
   "source": [
    "#Cek heksadesimal, kemudian diubah ke integer\n",
    "data[\"wlan.qos.buf_state_indicated\"] = data[\"wlan.qos.buf_state_indicated\"].astype(\"int64\")#karena ada 2 kolom dengan nama ini, jadi ganti manual\n",
    "VarHex = []\n",
    "for x in data:\n",
    "    if x == \"wlan.qos.buf_state_indicated\":\n",
    "        continue\n",
    "    try:\n",
    "        if data[x].str.contains('x').any():\n",
    "            print (x, \"= Hex\")\n",
    "            VarHex.append(x)\n",
    "            data[x] = data[x].astype(str)\n",
    "            data[x] = data[x].apply(int, base=16)\n",
    "            data[x] = data[x].astype(\"int64\")\n",
    "            print(x, \"telah diubah menjadi desimal\")\n",
    "    except:\n",
    "        a = 5"
   ]
  },
  {
   "cell_type": "code",
   "execution_count": 5,
   "metadata": {},
   "outputs": [
    {
     "name": "stdout",
     "output_type": "stream",
     "text": [
      "['radiotap.present.reserved', 'wlan.fc.type_subtype', 'wlan.fc.ds', 'wlan.bar.type', 'wlan.bar.compressed.tidinfo', 'wlan_mgt.fixed.capabilities.cfpoll.ap', 'wlan_mgt.fixed.listen_ival', 'wlan_mgt.fixed.status_code', 'wlan_mgt.fixed.timestamp', 'wlan_mgt.fixed.aid', 'wlan_mgt.fixed.reason_code', 'wlan_mgt.fixed.auth_seq', 'wlan_mgt.fixed.htact', 'wlan_mgt.fixed.chanwidth', 'wlan_mgt.ssid', 'wlan_mgt.tim.bmapctl.offset', 'wlan_mgt.country_info.environment', 'wlan_mgt.rsn.capabilities.ptksa_replay_counter', 'wlan_mgt.rsn.capabilities.gtksa_replay_counter', 'wlan.wep.iv', 'wlan.wep.icv', 'wlan.tkip.extiv', 'wlan.ccmp.extiv', 'wlan.qos.ack']\n"
     ]
    }
   ],
   "source": [
    "print(VarHex)"
   ]
  },
  {
   "cell_type": "code",
   "execution_count": 6,
   "metadata": {},
   "outputs": [
    {
     "name": "stdout",
     "output_type": "stream",
     "text": [
      "radiotap.mactime merupakan desimal\n",
      "radiotap.mactime telah diubah menjadi int64\n",
      "radiotap.flags.cfp merupakan desimal\n",
      "radiotap.flags.cfp telah diubah menjadi int64\n",
      "radiotap.flags.preamble merupakan desimal\n",
      "radiotap.flags.preamble telah diubah menjadi int64\n",
      "radiotap.flags.wep merupakan desimal\n",
      "radiotap.flags.wep telah diubah menjadi int64\n",
      "radiotap.flags.frag merupakan desimal\n",
      "radiotap.flags.frag telah diubah menjadi int64\n",
      "radiotap.flags.fcs merupakan desimal\n",
      "radiotap.flags.fcs telah diubah menjadi int64\n",
      "radiotap.flags.datapad merupakan desimal\n",
      "radiotap.flags.datapad telah diubah menjadi int64\n",
      "radiotap.flags.badfcs merupakan desimal\n",
      "radiotap.flags.badfcs telah diubah menjadi int64\n",
      "radiotap.flags.shortgi merupakan desimal\n",
      "radiotap.flags.shortgi telah diubah menjadi int64\n",
      "radiotap.channel.freq merupakan desimal\n",
      "radiotap.channel.freq telah diubah menjadi int64\n",
      "radiotap.channel.type.turbo merupakan desimal\n",
      "radiotap.channel.type.turbo telah diubah menjadi int64\n",
      "radiotap.channel.type.cck merupakan desimal\n",
      "radiotap.channel.type.cck telah diubah menjadi int64\n",
      "radiotap.channel.type.ofdm merupakan desimal\n",
      "radiotap.channel.type.ofdm telah diubah menjadi int64\n",
      "radiotap.channel.type.2ghz merupakan desimal\n",
      "radiotap.channel.type.2ghz telah diubah menjadi int64\n",
      "radiotap.channel.type.5ghz merupakan desimal\n",
      "radiotap.channel.type.5ghz telah diubah menjadi int64\n",
      "radiotap.channel.type.passive merupakan desimal\n",
      "radiotap.channel.type.passive telah diubah menjadi int64\n",
      "radiotap.channel.type.dynamic merupakan desimal\n",
      "radiotap.channel.type.dynamic telah diubah menjadi int64\n",
      "radiotap.channel.type.gfsk merupakan desimal\n",
      "radiotap.channel.type.gfsk telah diubah menjadi int64\n",
      "radiotap.channel.type.gsm merupakan desimal\n",
      "radiotap.channel.type.gsm telah diubah menjadi int64\n",
      "radiotap.channel.type.sturbo merupakan desimal\n",
      "radiotap.channel.type.sturbo telah diubah menjadi int64\n",
      "radiotap.channel.type.half merupakan desimal\n",
      "radiotap.channel.type.half telah diubah menjadi int64\n",
      "radiotap.channel.type.quarter merupakan desimal\n",
      "radiotap.channel.type.quarter telah diubah menjadi int64\n",
      "radiotap.antenna merupakan desimal\n",
      "radiotap.antenna telah diubah menjadi int64\n",
      "radiotap.rxflags.badplcp merupakan desimal\n",
      "radiotap.rxflags.badplcp telah diubah menjadi int64\n",
      "wlan.duration merupakan desimal\n",
      "wlan.duration telah diubah menjadi int64\n",
      "wlan.frag merupakan desimal\n",
      "wlan.frag telah diubah menjadi int64\n",
      "wlan.seq merupakan desimal\n",
      "wlan.seq telah diubah menjadi int64\n",
      "wlan.ba.control.ackpolicy merupakan desimal\n",
      "wlan.ba.control.ackpolicy telah diubah menjadi int64\n",
      "wlan.ba.control.multitid merupakan desimal\n",
      "wlan.ba.control.multitid telah diubah menjadi int64\n",
      "wlan.ba.control.cbitmap merupakan desimal\n",
      "wlan.ba.control.cbitmap telah diubah menjadi int64\n",
      "wlan.fcs_good merupakan desimal\n",
      "wlan.fcs_good telah diubah menjadi int64\n",
      "wlan_mgt.fixed.capabilities.ess merupakan desimal\n",
      "wlan_mgt.fixed.capabilities.ess telah diubah menjadi int64\n",
      "wlan_mgt.fixed.capabilities.ibss merupakan desimal\n",
      "wlan_mgt.fixed.capabilities.ibss telah diubah menjadi int64\n",
      "wlan_mgt.fixed.capabilities.privacy merupakan desimal\n",
      "wlan_mgt.fixed.capabilities.privacy telah diubah menjadi int64\n",
      "wlan_mgt.fixed.capabilities.preamble merupakan desimal\n",
      "wlan_mgt.fixed.capabilities.preamble telah diubah menjadi int64\n",
      "wlan_mgt.fixed.capabilities.pbcc merupakan desimal\n",
      "wlan_mgt.fixed.capabilities.pbcc telah diubah menjadi int64\n",
      "wlan_mgt.fixed.capabilities.agility merupakan desimal\n",
      "wlan_mgt.fixed.capabilities.agility telah diubah menjadi int64\n",
      "wlan_mgt.fixed.capabilities.spec_man merupakan desimal\n",
      "wlan_mgt.fixed.capabilities.spec_man telah diubah menjadi int64\n",
      "wlan_mgt.fixed.capabilities.short_slot_time merupakan desimal\n",
      "wlan_mgt.fixed.capabilities.short_slot_time telah diubah menjadi int64\n",
      "wlan_mgt.fixed.capabilities.apsd merupakan desimal\n",
      "wlan_mgt.fixed.capabilities.apsd telah diubah menjadi int64\n",
      "wlan_mgt.fixed.capabilities.radio_measurement merupakan desimal\n",
      "wlan_mgt.fixed.capabilities.radio_measurement telah diubah menjadi int64\n",
      "wlan_mgt.fixed.capabilities.dsss_ofdm merupakan desimal\n",
      "wlan_mgt.fixed.capabilities.dsss_ofdm telah diubah menjadi int64\n",
      "wlan_mgt.fixed.capabilities.del_blk_ack merupakan desimal\n",
      "wlan_mgt.fixed.capabilities.del_blk_ack telah diubah menjadi int64\n",
      "wlan_mgt.fixed.capabilities.imm_blk_ack merupakan desimal\n",
      "wlan_mgt.fixed.capabilities.imm_blk_ack telah diubah menjadi int64\n",
      "wlan_mgt.fixed.beacon merupakan desimal\n",
      "wlan_mgt.fixed.beacon telah diubah menjadi int64\n",
      "wlan_mgt.fixed.auth.alg merupakan desimal\n",
      "wlan_mgt.fixed.auth.alg telah diubah menjadi int64\n",
      "wlan_mgt.fixed.category_code merupakan desimal\n",
      "wlan_mgt.fixed.category_code telah diubah menjadi int64\n",
      "wlan_mgt.fixed.fragment merupakan desimal\n",
      "wlan_mgt.fixed.fragment telah diubah menjadi int64\n",
      "wlan_mgt.fixed.sequence merupakan desimal\n",
      "wlan_mgt.fixed.sequence telah diubah menjadi int64\n",
      "wlan_mgt.tagged.all merupakan desimal\n",
      "wlan_mgt.tagged.all telah diubah menjadi int64\n",
      "wlan_mgt.ds.current_channel merupakan desimal\n",
      "wlan_mgt.ds.current_channel telah diubah menjadi int64\n",
      "wlan_mgt.tim.dtim_count merupakan desimal\n",
      "wlan_mgt.tim.dtim_count telah diubah menjadi int64\n",
      "wlan_mgt.tim.dtim_period merupakan desimal\n",
      "wlan_mgt.tim.dtim_period telah diubah menjadi int64\n",
      "wlan_mgt.tim.bmapctl.multicast merupakan desimal\n",
      "wlan_mgt.tim.bmapctl.multicast telah diubah menjadi int64\n",
      "wlan_mgt.rsn.version merupakan desimal\n",
      "wlan_mgt.rsn.version telah diubah menjadi int64\n",
      "wlan_mgt.rsn.gcs.type merupakan desimal\n",
      "wlan_mgt.rsn.gcs.type telah diubah menjadi int64\n",
      "wlan_mgt.rsn.pcs.count merupakan desimal\n",
      "wlan_mgt.rsn.pcs.count telah diubah menjadi int64\n",
      "wlan_mgt.rsn.akms.count merupakan desimal\n",
      "wlan_mgt.rsn.akms.count telah diubah menjadi int64\n",
      "wlan_mgt.rsn.akms.type merupakan desimal\n",
      "wlan_mgt.rsn.akms.type telah diubah menjadi int64\n",
      "wlan_mgt.rsn.capabilities.preauth merupakan desimal\n",
      "wlan_mgt.rsn.capabilities.preauth telah diubah menjadi int64\n",
      "wlan_mgt.rsn.capabilities.no_pairwise merupakan desimal\n",
      "wlan_mgt.rsn.capabilities.no_pairwise telah diubah menjadi int64\n",
      "wlan_mgt.rsn.capabilities.mfpr merupakan desimal\n",
      "wlan_mgt.rsn.capabilities.mfpr telah diubah menjadi int64\n",
      "wlan_mgt.rsn.capabilities.mfpc merupakan desimal\n",
      "wlan_mgt.rsn.capabilities.mfpc telah diubah menjadi int64\n",
      "wlan_mgt.rsn.capabilities.peerkey merupakan desimal\n",
      "wlan_mgt.rsn.capabilities.peerkey telah diubah menjadi int64\n",
      "wlan.wep.key merupakan desimal\n",
      "wlan.wep.key telah diubah menjadi int64\n",
      "wlan.qos.tid merupakan desimal\n",
      "wlan.qos.tid telah diubah menjadi int64\n",
      "wlan.qos.priority merupakan desimal\n",
      "wlan.qos.priority telah diubah menjadi int64\n",
      "wlan.qos.eosp merupakan desimal\n",
      "wlan.qos.eosp telah diubah menjadi int64\n",
      "wlan.qos.amsdupresent merupakan desimal\n",
      "wlan.qos.amsdupresent telah diubah menjadi int64\n",
      "wlan.qos.bit4 merupakan desimal\n",
      "wlan.qos.bit4 telah diubah menjadi int64\n",
      "wlan.qos.txop_dur_req merupakan desimal\n",
      "wlan.qos.txop_dur_req telah diubah menjadi int64\n",
      "data.len merupakan desimal\n",
      "data.len telah diubah menjadi int64\n"
     ]
    }
   ],
   "source": [
    "#Mengubah dataframe object yang masih berisi integer menjadi int64\n",
    "VarHex2 = []\n",
    "for x in data:\n",
    "    if x == \"wlan.qos.buf_state_indicated\":\n",
    "        continue\n",
    "    if data[x].dtypes == \"object\":\n",
    "        if data[x].str.isdecimal().all():\n",
    "            VarHex2.append(x)\n",
    "            print(x, \"merupakan desimal\")\n",
    "            data[x] = data[x].astype(\"int64\")\n",
    "            print(x, \"telah diubah menjadi int64\")\n",
    "        "
   ]
  },
  {
   "cell_type": "code",
   "execution_count": 7,
   "metadata": {},
   "outputs": [
    {
     "name": "stdout",
     "output_type": "stream",
     "text": [
      "['radiotap.present.reserved', 'wlan.fc.type_subtype', 'wlan.fc.ds', 'wlan.bar.type', 'wlan.bar.compressed.tidinfo', 'wlan_mgt.fixed.capabilities.cfpoll.ap', 'wlan_mgt.fixed.listen_ival', 'wlan_mgt.fixed.status_code', 'wlan_mgt.fixed.timestamp', 'wlan_mgt.fixed.aid', 'wlan_mgt.fixed.reason_code', 'wlan_mgt.fixed.auth_seq', 'wlan_mgt.fixed.htact', 'wlan_mgt.fixed.chanwidth', 'wlan_mgt.ssid', 'wlan_mgt.tim.bmapctl.offset', 'wlan_mgt.country_info.environment', 'wlan_mgt.rsn.capabilities.ptksa_replay_counter', 'wlan_mgt.rsn.capabilities.gtksa_replay_counter', 'wlan.wep.iv', 'wlan.wep.icv', 'wlan.tkip.extiv', 'wlan.ccmp.extiv', 'wlan.qos.ack', 'radiotap.mactime', 'radiotap.flags.cfp', 'radiotap.flags.preamble', 'radiotap.flags.wep', 'radiotap.flags.frag', 'radiotap.flags.fcs', 'radiotap.flags.datapad', 'radiotap.flags.badfcs', 'radiotap.flags.shortgi', 'radiotap.channel.freq', 'radiotap.channel.type.turbo', 'radiotap.channel.type.cck', 'radiotap.channel.type.ofdm', 'radiotap.channel.type.2ghz', 'radiotap.channel.type.5ghz', 'radiotap.channel.type.passive', 'radiotap.channel.type.dynamic', 'radiotap.channel.type.gfsk', 'radiotap.channel.type.gsm', 'radiotap.channel.type.sturbo', 'radiotap.channel.type.half', 'radiotap.channel.type.quarter', 'radiotap.antenna', 'radiotap.rxflags.badplcp', 'wlan.duration', 'wlan.frag', 'wlan.seq', 'wlan.ba.control.ackpolicy', 'wlan.ba.control.multitid', 'wlan.ba.control.cbitmap', 'wlan.fcs_good', 'wlan_mgt.fixed.capabilities.ess', 'wlan_mgt.fixed.capabilities.ibss', 'wlan_mgt.fixed.capabilities.privacy', 'wlan_mgt.fixed.capabilities.preamble', 'wlan_mgt.fixed.capabilities.pbcc', 'wlan_mgt.fixed.capabilities.agility', 'wlan_mgt.fixed.capabilities.spec_man', 'wlan_mgt.fixed.capabilities.short_slot_time', 'wlan_mgt.fixed.capabilities.apsd', 'wlan_mgt.fixed.capabilities.radio_measurement', 'wlan_mgt.fixed.capabilities.dsss_ofdm', 'wlan_mgt.fixed.capabilities.del_blk_ack', 'wlan_mgt.fixed.capabilities.imm_blk_ack', 'wlan_mgt.fixed.beacon', 'wlan_mgt.fixed.auth.alg', 'wlan_mgt.fixed.category_code', 'wlan_mgt.fixed.fragment', 'wlan_mgt.fixed.sequence', 'wlan_mgt.tagged.all', 'wlan_mgt.ds.current_channel', 'wlan_mgt.tim.dtim_count', 'wlan_mgt.tim.dtim_period', 'wlan_mgt.tim.bmapctl.multicast', 'wlan_mgt.rsn.version', 'wlan_mgt.rsn.gcs.type', 'wlan_mgt.rsn.pcs.count', 'wlan_mgt.rsn.akms.count', 'wlan_mgt.rsn.akms.type', 'wlan_mgt.rsn.capabilities.preauth', 'wlan_mgt.rsn.capabilities.no_pairwise', 'wlan_mgt.rsn.capabilities.mfpr', 'wlan_mgt.rsn.capabilities.mfpc', 'wlan_mgt.rsn.capabilities.peerkey', 'wlan.wep.key', 'wlan.qos.tid', 'wlan.qos.priority', 'wlan.qos.eosp', 'wlan.qos.amsdupresent', 'wlan.qos.bit4', 'wlan.qos.txop_dur_req', 'data.len']\n"
     ]
    }
   ],
   "source": [
    "for i in VarHex2:\n",
    "    VarHex.append(i)\n",
    "print(VarHex)"
   ]
  },
  {
   "cell_type": "code",
   "execution_count": 8,
   "metadata": {},
   "outputs": [
    {
     "name": "stdout",
     "output_type": "stream",
     "text": [
      "radiotap.dbm_antsignal adalah object\n",
      "wlan.ra adalah object\n",
      "wlan.da adalah object\n",
      "wlan.ta adalah object\n",
      "wlan.sa adalah object\n",
      "wlan.bssid adalah object\n",
      "wlan.ba.bm adalah object\n",
      "wlan_mgt.fixed.current_ap adalah object\n",
      "wlan_mgt.ssid adalah object\n",
      "wlan_mgt.tcprep.trsmt_pow adalah object\n",
      "wlan_mgt.tcprep.link_mrg adalah object\n",
      "class adalah object\n"
     ]
    }
   ],
   "source": [
    "for x in data:\n",
    "    if x == \"wlan.qos.buf_state_indicated\":\n",
    "        continue\n",
    "    if data[x].dtypes == \"object\":\n",
    "        print(x, \"adalah object\")\n",
    "        if x == \"wlan.bssid\" or x == \"wlan_mgt.ssid\" or x == \"class\":\n",
    "            continue\n",
    "        else:\n",
    "            data.drop(columns=[x],inplace=True)"
   ]
  },
  {
   "cell_type": "code",
   "execution_count": 10,
   "metadata": {},
   "outputs": [],
   "source": [
    "a, b = pd.factorize(data[\"class\"])"
   ]
  },
  {
   "cell_type": "code",
   "execution_count": 13,
   "metadata": {},
   "outputs": [
    {
     "data": {
      "text/plain": [
       "array([0, 0, 0, ..., 0, 0, 0], dtype=int64)"
      ]
     },
     "execution_count": 13,
     "metadata": {},
     "output_type": "execute_result"
    }
   ],
   "source": [
    "a"
   ]
  },
  {
   "cell_type": "code",
   "execution_count": 14,
   "metadata": {},
   "outputs": [],
   "source": [
    "data[\"class\"] = a"
   ]
  },
  {
   "cell_type": "code",
   "execution_count": 10,
   "metadata": {},
   "outputs": [
    {
     "data": {
      "text/plain": [
       "Index(['normal', 'amok', 'beacon', 'deauthentication', 'fragmentation', 'arp',\n",
       "       'cafe_latte', 'authentication_request', 'probe_response', 'evil_twin'],\n",
       "      dtype='object')"
      ]
     },
     "execution_count": 10,
     "metadata": {},
     "output_type": "execute_result"
    }
   ],
   "source": [
    "b"
   ]
  },
  {
   "cell_type": "code",
   "execution_count": 15,
   "metadata": {},
   "outputs": [],
   "source": [
    "with open(\"JenisSerangan1.txt\", \"w\") as text_file:\n",
    "    text_file.write(\"%s\" %(b))"
   ]
  },
  {
   "cell_type": "code",
   "execution_count": 16,
   "metadata": {},
   "outputs": [],
   "source": [
    "data.to_csv('dataset_preprocess1.csv', index=False, header=False)"
   ]
  },
  {
   "cell_type": "code",
   "execution_count": 17,
   "metadata": {},
   "outputs": [],
   "source": [
    "with open('VarBukanINT1.txt', 'w') as f:\n",
    "    for item in VarHex:\n",
    "        f.write(\"%s\\n\" % item)"
   ]
  },
  {
   "cell_type": "code",
   "execution_count": 72,
   "metadata": {},
   "outputs": [],
   "source": [
    "####NORMALIZATION####"
   ]
  },
  {
   "cell_type": "code",
   "execution_count": 80,
   "metadata": {},
   "outputs": [
    {
     "ename": "ZeroDivisionError",
     "evalue": "division by zero",
     "output_type": "error",
     "traceback": [
      "\u001b[1;31m---------------------------------------------------------------------------\u001b[0m",
      "\u001b[1;31mZeroDivisionError\u001b[0m                         Traceback (most recent call last)",
      "\u001b[1;32m<ipython-input-80-45388d6b3239>\u001b[0m in \u001b[0;36m<module>\u001b[1;34m\u001b[0m\n\u001b[0;32m      5\u001b[0m     \u001b[0mtemp\u001b[0m \u001b[1;33m=\u001b[0m \u001b[1;33m[\u001b[0m\u001b[1;33m]\u001b[0m\u001b[1;33m\u001b[0m\u001b[1;33m\u001b[0m\u001b[0m\n\u001b[0;32m      6\u001b[0m     \u001b[1;32mfor\u001b[0m \u001b[0mj\u001b[0m \u001b[1;32min\u001b[0m \u001b[0mdata\u001b[0m\u001b[1;33m[\u001b[0m\u001b[0mi\u001b[0m\u001b[1;33m]\u001b[0m\u001b[1;33m:\u001b[0m\u001b[1;33m\u001b[0m\u001b[1;33m\u001b[0m\u001b[0m\n\u001b[1;32m----> 7\u001b[1;33m         \u001b[0mj\u001b[0m \u001b[1;33m=\u001b[0m \u001b[1;33m(\u001b[0m\u001b[0mj\u001b[0m \u001b[1;33m-\u001b[0m \u001b[0mmin\u001b[0m\u001b[1;33m(\u001b[0m\u001b[0mdata\u001b[0m\u001b[1;33m[\u001b[0m\u001b[0mi\u001b[0m\u001b[1;33m]\u001b[0m\u001b[1;33m)\u001b[0m\u001b[1;33m)\u001b[0m\u001b[1;33m/\u001b[0m\u001b[1;33m(\u001b[0m\u001b[0mmax\u001b[0m\u001b[1;33m(\u001b[0m\u001b[0mdata\u001b[0m\u001b[1;33m[\u001b[0m\u001b[0mi\u001b[0m\u001b[1;33m]\u001b[0m\u001b[1;33m)\u001b[0m\u001b[1;33m-\u001b[0m\u001b[0mmin\u001b[0m\u001b[1;33m(\u001b[0m\u001b[0mdata\u001b[0m\u001b[1;33m[\u001b[0m\u001b[0mi\u001b[0m\u001b[1;33m]\u001b[0m\u001b[1;33m)\u001b[0m\u001b[1;33m)\u001b[0m\u001b[1;33m\u001b[0m\u001b[1;33m\u001b[0m\u001b[0m\n\u001b[0m\u001b[0;32m      8\u001b[0m         \u001b[0mtemp\u001b[0m\u001b[1;33m.\u001b[0m\u001b[0mappend\u001b[0m\u001b[1;33m(\u001b[0m\u001b[0mj\u001b[0m\u001b[1;33m)\u001b[0m\u001b[1;33m\u001b[0m\u001b[1;33m\u001b[0m\u001b[0m\n\u001b[0;32m      9\u001b[0m     \u001b[0mdata\u001b[0m\u001b[1;33m[\u001b[0m\u001b[0mi\u001b[0m\u001b[1;33m]\u001b[0m \u001b[1;33m=\u001b[0m \u001b[0mtemp\u001b[0m\u001b[1;33m\u001b[0m\u001b[1;33m\u001b[0m\u001b[0m\n",
      "\u001b[1;31mZeroDivisionError\u001b[0m: division by zero"
     ]
    }
   ],
   "source": [
    "###NORMALIZATION#####\n",
    "for i in data:\n",
    "    if i in VarHex or i == \"class\":\n",
    "        continue\n",
    "    temp = []\n",
    "    for j in data[i]:\n",
    "        j = (j - min(data[i]))/(max(data[i])-min(data[i]))\n",
    "        temp.append(j)\n",
    "    data[i] = temp"
   ]
  },
  {
   "cell_type": "code",
   "execution_count": 18,
   "metadata": {},
   "outputs": [],
   "source": [
    "with open('col_names_preprocess.txt', 'w') as f:\n",
    "    for item in data:\n",
    "        f.write(\"%s\\n\" % item)"
   ]
  },
  {
   "cell_type": "code",
   "execution_count": null,
   "metadata": {},
   "outputs": [],
   "source": []
  }
 ],
 "metadata": {
  "kernelspec": {
   "display_name": "Python 3",
   "language": "python",
   "name": "python3"
  },
  "language_info": {
   "codemirror_mode": {
    "name": "ipython",
    "version": 3
   },
   "file_extension": ".py",
   "mimetype": "text/x-python",
   "name": "python",
   "nbconvert_exporter": "python",
   "pygments_lexer": "ipython3",
   "version": "3.7.3"
  }
 },
 "nbformat": 4,
 "nbformat_minor": 2
}
